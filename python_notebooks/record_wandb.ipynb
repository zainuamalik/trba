{
 "cells": [
  {
   "cell_type": "code",
   "execution_count": 1,
   "metadata": {},
   "outputs": [],
   "source": [
    "import wandb"
   ]
  },
  {
   "cell_type": "code",
   "execution_count": null,
   "metadata": {},
   "outputs": [],
   "source": [
    "api_key= 'df0e0561866b4c4a20c92ff2adea2a2a789e0199'\n",
    "wandb.login(key=api_key)"
   ]
  },
  {
   "cell_type": "markdown",
   "metadata": {},
   "source": [
    "SINGLE TRIAL"
   ]
  },
  {
   "cell_type": "code",
   "execution_count": null,
   "metadata": {},
   "outputs": [],
   "source": [
    "# Function to parse a text file with key-value pairs (e.g., hyperparameters or options)\n",
    "def parse_text_file(file_path, separator=':'):\n",
    "    config_dict = {}\n",
    "    with open(file_path, 'r') as file:\n",
    "        for line in file:\n",
    "            line = line.strip()\n",
    "            if line and not line.startswith(\"------------\"):  # Skip empty lines and separators\n",
    "                key, value = line.split(separator)\n",
    "                key, value = key.strip(), value.strip()\n",
    "                # Convert value to float, int, or keep as string if needed\n",
    "                try:\n",
    "                    value = float(value) if '.' in value else int(value)\n",
    "                except ValueError:\n",
    "                    pass  # Keep as string if it cannot be converted\n",
    "                config_dict[key] = value\n",
    "    return config_dict\n",
    "\n",
    "\"\"\" # Parse the hyperparameters (from hyperparameters.txt)\n",
    "hyperparameters = parse_text_file('Optuna/Cycle_2/trial_0/hyperparameters.txt') \"\"\"\n",
    "\n",
    "# Parse the options/configuration (from opt.txt)\n",
    "configuration = parse_text_file('Optuna/Cycle_2/trial_9/opt.txt')\n",
    "\n",
    "\"\"\" # Combine both dictionaries into one\n",
    "config = {**hyperparameters, **configuration} \"\"\"\n",
    "\n",
    "# Initialize your WandB run\n",
    "wandb.init(project=\"my_project\", name=\"trial_9\", config=configuration)\n",
    "\n",
    "# Open the log_train.txt file and read it\n",
    "with open(\"Optuna/Cycle_2/trial_9/log_train.txt\", \"r\") as file:\n",
    "    lines = file.readlines()\n",
    "\n",
    "# Regular expressions for extracting the numerical data\n",
    "metrics_regex = {\n",
    "    \"train_loss\": r\"Train_loss\\s*:\\s*([\\d\\.]+)\",\n",
    "    \"valid_loss\": r\"Valid_loss\\s*:\\s*([\\d\\.]+)\",\n",
    "    \"current_accuracy\": r\"Current_accuracy\\s*:\\s*([\\d\\.]+)\",\n",
    "    \"learning_rate\": r\"Learning_rate\\s*:\\s*([\\d\\.e\\-]+)\",\n",
    "    \"batch_cer\": r\"Batch_CER\\s*:\\s*([\\d\\.]+)\",\n",
    "    \"best_accuracy\": r\"Best_accuracy\\s*:\\s*([\\d\\.]+)\",\n",
    "    \"best_norm_ed\": r\"Best_norm_ED\\s*:\\s*([\\d\\.]+)\",\n",
    "    \"average_cer\": r\"Average_CER\\s*:\\s*([\\d\\.]+)\"\n",
    "}\n",
    "\n",
    "# Regular expression for extracting Ground Truth | Prediction | Confidence | CER lines\n",
    "prediction_regex = r\"([^\\|]+)\\s*\\|\\s*([^\\|]+)\\s*\\|\\s*([\\d\\.]+)\\s*\\|\\s*([\\w]+)\\s*\\|\\s*([\\d\\.]+)\"\n",
    "\n",
    "# Variables to store extracted metrics\n",
    "metrics = {\n",
    "    \"train_loss\": None,\n",
    "    \"valid_loss\": None,\n",
    "    \"current_accuracy\": None,\n",
    "    \"learning_rate\": None,\n",
    "    \"batch_cer\": None,\n",
    "    \"best_accuracy\": None,\n",
    "    \"best_norm_ed\": None,\n",
    "    \"average_cer\": None,\n",
    "}\n",
    "\n",
    "# List to store predictions, ground truths, and CERs for logging\n",
    "predictions = []\n",
    "\n",
    "# Loop through each line to find and log metrics\n",
    "for line in lines:\n",
    "    # Check if the line contains any of the numerical metrics\n",
    "    for metric, pattern in metrics_regex.items():\n",
    "        match = re.search(pattern, line)\n",
    "        if match:\n",
    "            metrics[metric] = float(match.group(1))\n",
    "    \n",
    "    # Check if the line matches the prediction structure\n",
    "    match = re.search(prediction_regex, line)\n",
    "    if match:\n",
    "        ground_truth = match.group(1)\n",
    "        prediction = match.group(2)\n",
    "        confidence = float(match.group(3))\n",
    "        true_false = match.group(4)\n",
    "        cer = float(match.group(5))\n",
    "        \n",
    "        # Append the prediction details for later logging\n",
    "        predictions.append({\n",
    "            \"Ground Truth\": ground_truth,\n",
    "            \"Prediction\": prediction,\n",
    "            \"Confidence\": confidence,\n",
    "            \"True/False\": true_false,\n",
    "            \"Character Error Rate (CER)\": cer\n",
    "        })\n",
    "    \n",
    "    # If there's a line separator (e.g., dashes or similar), log metrics if available\n",
    "    if line.startswith(\"-\"):\n",
    "        # Log the numerical metrics to WandB if they were found in the previous lines\n",
    "        if metrics[\"train_loss\"] is not None:\n",
    "            wandb.log({\n",
    "                \"train_loss\": metrics[\"train_loss\"],\n",
    "                \"valid_loss\": metrics[\"valid_loss\"],\n",
    "                \"current_accuracy\": metrics[\"current_accuracy\"],\n",
    "                \"learning_rate\": metrics[\"learning_rate\"],\n",
    "                \"batch_cer\": metrics[\"batch_cer\"],\n",
    "                \"best_accuracy\": metrics[\"best_accuracy\"],\n",
    "                \"best_norm_ed\": metrics[\"best_norm_ed\"],\n",
    "                \"average_cer\": metrics[\"average_cer\"]\n",
    "            })\n",
    "            \n",
    "            # Reset metrics after logging\n",
    "            metrics = {key: None for key in metrics}\n",
    "\n",
    "# Log predictions and CER (you can log them as a table or as individual values)\n",
    "for prediction in predictions:\n",
    "    wandb.log({\n",
    "        \"Ground Truth\": prediction[\"Ground Truth\"],\n",
    "        \"Prediction\": prediction[\"Prediction\"],\n",
    "        \"Confidence\": prediction[\"Confidence\"],\n",
    "        \"True/False\": prediction[\"True/False\"],\n",
    "        \"Character Error Rate (CER)\": prediction[\"Character Error Rate (CER)\"]\n",
    "    })\n",
    "\n",
    "# Finish the run\n",
    "wandb.finish()"
   ]
  },
  {
   "cell_type": "markdown",
   "metadata": {},
   "source": [
    "MULTIPLE TRIALS FROM A FOLDER"
   ]
  },
  {
   "cell_type": "code",
   "execution_count": 5,
   "metadata": {},
   "outputs": [],
   "source": [
    "import os\n",
    "import re\n",
    "import wandb\n",
    "\n",
    "# Function to parse a text file with key-value pairs (e.g., hyperparameters or options)\n",
    "def parse_text_file(file_path, separator=':'):\n",
    "    config_dict = {}\n",
    "    with open(file_path, 'r') as file:\n",
    "        for line in file:\n",
    "            line = line.strip()\n",
    "            if line and not line.startswith(\"------------\"):  # Skip empty lines and separators\n",
    "                if separator in line:\n",
    "                    key, value = line.split(separator, 1)  # Only split at the first occurrence\n",
    "                    key, value = key.strip(), value.strip()\n",
    "                    # Convert value to float, int, or keep as string if needed\n",
    "                    try:\n",
    "                        value = float(value) if '.' in value else int(value)\n",
    "                    except ValueError:\n",
    "                        pass  # Keep as string if it cannot be converted\n",
    "                    config_dict[key] = value\n",
    "    return config_dict\n",
    "\n",
    "\n",
    "# Regular expressions for extracting numerical data\n",
    "metrics_regex = {\n",
    "    \"train_loss\": r\"Train loss:\\s*([\\d\\.]+)\",\n",
    "    \"valid_loss\": r\"Valid loss:\\s*([\\d\\.]+)\",\n",
    "    \"current_accuracy\": r\"Current_accuracy\\s*:\\s*([\\d\\.]+)\",\n",
    "    \"best_accuracy\": r\"Best_accuracy\\s*:\\s*([\\d\\.]+)\",\n",
    "    \"best_norm_ed\": r\"Best_norm_ED\\s*:\\s*([\\d\\.]+)\",\n",
    "}\n",
    "\n",
    "# Regular expression for extracting Ground Truth | Prediction | Confidence | CER lines\n",
    "prediction_regex = r\"([^\\|]+)\\s*\\|\\s*([^\\|]*)\\s*\\|\\s*([\\d\\.]+)\\s*([\\w]+)\"\n",
    "\n",
    "# Main function to process all trials in a folder\n",
    "def log_trials_from_folder(base_folder, project_name):\n",
    "    for trial_folder in os.listdir(base_folder):\n",
    "        trial_path = os.path.join(base_folder, trial_folder)\n",
    "        if os.path.isdir(trial_path):\n",
    "            # Parse configuration files\n",
    "            hyperparameters_path = os.path.join(trial_path, 'hyperparameters.txt')\n",
    "            opt_path = os.path.join(trial_path, 'opt.txt')\n",
    "            log_path = os.path.join(trial_path, 'log_train.txt')\n",
    "\n",
    "            hyperparameters = parse_text_file(hyperparameters_path) if os.path.exists(hyperparameters_path) else {}\n",
    "            configuration = parse_text_file(opt_path) if os.path.exists(opt_path) else {}\n",
    "\n",
    "            # Combine both dictionaries\n",
    "            config = {**hyperparameters, **configuration}\n",
    "\n",
    "            # Initialize WandB run\n",
    "            wandb.init(project=project_name, name=trial_folder, config=config)\n",
    "\n",
    "            # Read and process the log_train.txt file\n",
    "            if os.path.exists(log_path):\n",
    "                with open(log_path, \"r\") as file:\n",
    "                    lines = file.readlines()\n",
    "\n",
    "                metrics = {}\n",
    "\n",
    "                for line in lines:\n",
    "                    # Extract metrics dynamically\n",
    "                    for metric, pattern in metrics_regex.items():\n",
    "                        match = re.search(pattern, line)\n",
    "                        if match:\n",
    "                            metrics[metric] = float(match.group(1))\n",
    "\n",
    "                    # Log metrics only when a separator line is encountered\n",
    "                    if line.startswith(\"-\") and metrics:\n",
    "                        wandb.log(metrics)\n",
    "                        metrics = {}\n",
    "\n",
    "                    # Extract predictions\n",
    "                    match = re.search(prediction_regex, line)\n",
    "                    if match:\n",
    "                        ground_truth = match.group(1).strip()\n",
    "                        prediction = match.group(2).strip() or \"N/A\"\n",
    "                        try:\n",
    "                            confidence = float(match.group(3))\n",
    "                            true_false = match.group(4)\n",
    "                            wandb.log({\n",
    "                                \"Ground Truth\": ground_truth,\n",
    "                                \"Prediction\": prediction,\n",
    "                                \"Confidence\": confidence,\n",
    "                                \"True/False\": true_false,\n",
    "                            })\n",
    "                        except ValueError:\n",
    "                            continue  # Skip invalid prediction lines\n",
    "\n",
    "            # Finish the WandB run\n",
    "            wandb.finish()"
   ]
  },
  {
   "cell_type": "code",
   "execution_count": 10,
   "metadata": {},
   "outputs": [
    {
     "data": {
      "text/html": [
       "Tracking run with wandb version 0.19.6"
      ],
      "text/plain": [
       "<IPython.core.display.HTML object>"
      ]
     },
     "metadata": {},
     "output_type": "display_data"
    },
    {
     "data": {
      "text/html": [
       "Run data is saved locally in <code>/home/af-ml-dev/JFreaks/OCR/EasyOCR/deep-aug/deep-text-recognition-benchmark/python_notebooks/wandb/run-20250217_074001-bc3wcelu</code>"
      ],
      "text/plain": [
       "<IPython.core.display.HTML object>"
      ]
     },
     "metadata": {},
     "output_type": "display_data"
    },
    {
     "data": {
      "text/html": [
       "Syncing run <strong><a href='https://wandb.ai/zainmalik-jfreaks/vitstr_study_4/runs/bc3wcelu' target=\"_blank\">trial_4</a></strong> to <a href='https://wandb.ai/zainmalik-jfreaks/vitstr_study_4' target=\"_blank\">Weights & Biases</a> (<a href='https://wandb.me/developer-guide' target=\"_blank\">docs</a>)<br>"
      ],
      "text/plain": [
       "<IPython.core.display.HTML object>"
      ]
     },
     "metadata": {},
     "output_type": "display_data"
    },
    {
     "data": {
      "text/html": [
       " View project at <a href='https://wandb.ai/zainmalik-jfreaks/vitstr_study_4' target=\"_blank\">https://wandb.ai/zainmalik-jfreaks/vitstr_study_4</a>"
      ],
      "text/plain": [
       "<IPython.core.display.HTML object>"
      ]
     },
     "metadata": {},
     "output_type": "display_data"
    },
    {
     "data": {
      "text/html": [
       " View run at <a href='https://wandb.ai/zainmalik-jfreaks/vitstr_study_4/runs/bc3wcelu' target=\"_blank\">https://wandb.ai/zainmalik-jfreaks/vitstr_study_4/runs/bc3wcelu</a>"
      ],
      "text/plain": [
       "<IPython.core.display.HTML object>"
      ]
     },
     "metadata": {},
     "output_type": "display_data"
    },
    {
     "data": {
      "text/html": [],
      "text/plain": [
       "<IPython.core.display.HTML object>"
      ]
     },
     "metadata": {},
     "output_type": "display_data"
    },
    {
     "data": {
      "text/html": [
       "<br>    <style><br>        .wandb-row {<br>            display: flex;<br>            flex-direction: row;<br>            flex-wrap: wrap;<br>            justify-content: flex-start;<br>            width: 100%;<br>        }<br>        .wandb-col {<br>            display: flex;<br>            flex-direction: column;<br>            flex-basis: 100%;<br>            flex: 1;<br>            padding: 10px;<br>        }<br>    </style><br><div class=\"wandb-row\"><div class=\"wandb-col\"><h3>Run history:</h3><br/><table class=\"wandb\"><tr><td>Confidence</td><td>▁▁▁▁▁▁▂▁▁▃▂▂▅▅▂█▄▆█▄▄▅▂▂▂▅▆▄█▃▂▃▆▄▁▂▆█▃▅</td></tr><tr><td>best_accuracy</td><td>▁▁▁▁▁▁▁▁▄▅▅▅▅▅▆▆▇▇▇▇▇▇▇▇████████████████</td></tr><tr><td>best_norm_ed</td><td>▁▁▁▁▂▂▃▅▇▇▇▇▇▇██████████████████████████</td></tr><tr><td>current_accuracy</td><td>▁▁▁▁▁▁▁▁▄▅▅▅▅▅▆▆▇▇▇▇▇▇▇▇▇███████████████</td></tr><tr><td>train_loss</td><td>█▇▆▆▆▆▅▄▃▂▂▂▂▂▂▂▁▁▁▁▁▁▁▁▁▁▁▁▁▁▁▁▁▁▁▁▁▁▁▁</td></tr><tr><td>valid_loss</td><td>█▇▆▆▆▆▅▃▂▂▂▂▁▂▁▁▁▁▁▁▁▁▁▁▁▁▁▁▁▁▁▁▁▁▁▁▁▁▁▁</td></tr></table><br/></div><div class=\"wandb-col\"><h3>Run summary:</h3><br/><table class=\"wandb\"><tr><td>Confidence</td><td>0.4892</td></tr><tr><td>Ground Truth</td><td>jv9g7</td></tr><tr><td>Prediction</td><td>jv9g7</td></tr><tr><td>True/False</td><td>True</td></tr><tr><td>best_accuracy</td><td>78.917</td></tr><tr><td>best_norm_ed</td><td>0.94</td></tr><tr><td>current_accuracy</td><td>78.867</td></tr><tr><td>train_loss</td><td>0.35622</td></tr><tr><td>valid_loss</td><td>0.5388</td></tr></table><br/></div></div>"
      ],
      "text/plain": [
       "<IPython.core.display.HTML object>"
      ]
     },
     "metadata": {},
     "output_type": "display_data"
    },
    {
     "data": {
      "text/html": [
       " View run <strong style=\"color:#cdcd00\">trial_4</strong> at: <a href='https://wandb.ai/zainmalik-jfreaks/vitstr_study_4/runs/bc3wcelu' target=\"_blank\">https://wandb.ai/zainmalik-jfreaks/vitstr_study_4/runs/bc3wcelu</a><br> View project at: <a href='https://wandb.ai/zainmalik-jfreaks/vitstr_study_4' target=\"_blank\">https://wandb.ai/zainmalik-jfreaks/vitstr_study_4</a><br>Synced 5 W&B file(s), 0 media file(s), 0 artifact file(s) and 0 other file(s)"
      ],
      "text/plain": [
       "<IPython.core.display.HTML object>"
      ]
     },
     "metadata": {},
     "output_type": "display_data"
    },
    {
     "data": {
      "text/html": [
       "Find logs at: <code>./wandb/run-20250217_074001-bc3wcelu/logs</code>"
      ],
      "text/plain": [
       "<IPython.core.display.HTML object>"
      ]
     },
     "metadata": {},
     "output_type": "display_data"
    },
    {
     "data": {
      "text/html": [
       "Tracking run with wandb version 0.19.6"
      ],
      "text/plain": [
       "<IPython.core.display.HTML object>"
      ]
     },
     "metadata": {},
     "output_type": "display_data"
    },
    {
     "data": {
      "text/html": [
       "Run data is saved locally in <code>/home/af-ml-dev/JFreaks/OCR/EasyOCR/deep-aug/deep-text-recognition-benchmark/python_notebooks/wandb/run-20250217_074003-sddn1elr</code>"
      ],
      "text/plain": [
       "<IPython.core.display.HTML object>"
      ]
     },
     "metadata": {},
     "output_type": "display_data"
    },
    {
     "data": {
      "text/html": [
       "Syncing run <strong><a href='https://wandb.ai/zainmalik-jfreaks/vitstr_study_4/runs/sddn1elr' target=\"_blank\">trial_2</a></strong> to <a href='https://wandb.ai/zainmalik-jfreaks/vitstr_study_4' target=\"_blank\">Weights & Biases</a> (<a href='https://wandb.me/developer-guide' target=\"_blank\">docs</a>)<br>"
      ],
      "text/plain": [
       "<IPython.core.display.HTML object>"
      ]
     },
     "metadata": {},
     "output_type": "display_data"
    },
    {
     "data": {
      "text/html": [
       " View project at <a href='https://wandb.ai/zainmalik-jfreaks/vitstr_study_4' target=\"_blank\">https://wandb.ai/zainmalik-jfreaks/vitstr_study_4</a>"
      ],
      "text/plain": [
       "<IPython.core.display.HTML object>"
      ]
     },
     "metadata": {},
     "output_type": "display_data"
    },
    {
     "data": {
      "text/html": [
       " View run at <a href='https://wandb.ai/zainmalik-jfreaks/vitstr_study_4/runs/sddn1elr' target=\"_blank\">https://wandb.ai/zainmalik-jfreaks/vitstr_study_4/runs/sddn1elr</a>"
      ],
      "text/plain": [
       "<IPython.core.display.HTML object>"
      ]
     },
     "metadata": {},
     "output_type": "display_data"
    },
    {
     "data": {
      "text/html": [],
      "text/plain": [
       "<IPython.core.display.HTML object>"
      ]
     },
     "metadata": {},
     "output_type": "display_data"
    },
    {
     "data": {
      "text/html": [
       "<br>    <style><br>        .wandb-row {<br>            display: flex;<br>            flex-direction: row;<br>            flex-wrap: wrap;<br>            justify-content: flex-start;<br>            width: 100%;<br>        }<br>        .wandb-col {<br>            display: flex;<br>            flex-direction: column;<br>            flex-basis: 100%;<br>            flex: 1;<br>            padding: 10px;<br>        }<br>    </style><br><div class=\"wandb-row\"><div class=\"wandb-col\"><h3>Run history:</h3><br/><table class=\"wandb\"><tr><td>Confidence</td><td>▁▁▁▁▁▁▁▁▁▁▁▁▁▁▁▂▁▁▁▁▂▂▁▃▆▂▂▅▃▂▁█▂▄▇▄▄▄▁▃</td></tr><tr><td>best_accuracy</td><td>▁▁▁▁▁▁▁▁▁▂▂▅▆▆▆▇▇████████</td></tr><tr><td>best_norm_ed</td><td>▁▁▁▁▂▂▂▄▅▆▆▇▇▇███████████</td></tr><tr><td>current_accuracy</td><td>▁▁▁▁▁▁▁▁▁▂▂▅▆▆▆▇▇████████</td></tr><tr><td>train_loss</td><td>█▇▆▆▆▆▅▅▄▃▃▂▂▂▁▁▁▁▁▁▁▁▁▁▁</td></tr><tr><td>valid_loss</td><td>█▇▆▆▆▆▆▄▄▂▂▂▁▁▁▁▁▁▁▁▁▁▁▁▁</td></tr></table><br/></div><div class=\"wandb-col\"><h3>Run summary:</h3><br/><table class=\"wandb\"><tr><td>Confidence</td><td>0.1705</td></tr><tr><td>Ground Truth</td><td>hdii9</td></tr><tr><td>Prediction</td><td>hdii9</td></tr><tr><td>True/False</td><td>True</td></tr><tr><td>best_accuracy</td><td>64.583</td></tr><tr><td>best_norm_ed</td><td>0.9</td></tr><tr><td>current_accuracy</td><td>64.5</td></tr><tr><td>train_loss</td><td>0.62035</td></tr><tr><td>valid_loss</td><td>0.61279</td></tr></table><br/></div></div>"
      ],
      "text/plain": [
       "<IPython.core.display.HTML object>"
      ]
     },
     "metadata": {},
     "output_type": "display_data"
    },
    {
     "data": {
      "text/html": [
       " View run <strong style=\"color:#cdcd00\">trial_2</strong> at: <a href='https://wandb.ai/zainmalik-jfreaks/vitstr_study_4/runs/sddn1elr' target=\"_blank\">https://wandb.ai/zainmalik-jfreaks/vitstr_study_4/runs/sddn1elr</a><br> View project at: <a href='https://wandb.ai/zainmalik-jfreaks/vitstr_study_4' target=\"_blank\">https://wandb.ai/zainmalik-jfreaks/vitstr_study_4</a><br>Synced 5 W&B file(s), 0 media file(s), 0 artifact file(s) and 0 other file(s)"
      ],
      "text/plain": [
       "<IPython.core.display.HTML object>"
      ]
     },
     "metadata": {},
     "output_type": "display_data"
    },
    {
     "data": {
      "text/html": [
       "Find logs at: <code>./wandb/run-20250217_074003-sddn1elr/logs</code>"
      ],
      "text/plain": [
       "<IPython.core.display.HTML object>"
      ]
     },
     "metadata": {},
     "output_type": "display_data"
    },
    {
     "data": {
      "text/html": [
       "Tracking run with wandb version 0.19.6"
      ],
      "text/plain": [
       "<IPython.core.display.HTML object>"
      ]
     },
     "metadata": {},
     "output_type": "display_data"
    },
    {
     "data": {
      "text/html": [
       "Run data is saved locally in <code>/home/af-ml-dev/JFreaks/OCR/EasyOCR/deep-aug/deep-text-recognition-benchmark/python_notebooks/wandb/run-20250217_074006-1d9wz77j</code>"
      ],
      "text/plain": [
       "<IPython.core.display.HTML object>"
      ]
     },
     "metadata": {},
     "output_type": "display_data"
    },
    {
     "data": {
      "text/html": [
       "Syncing run <strong><a href='https://wandb.ai/zainmalik-jfreaks/vitstr_study_4/runs/1d9wz77j' target=\"_blank\">trial_1</a></strong> to <a href='https://wandb.ai/zainmalik-jfreaks/vitstr_study_4' target=\"_blank\">Weights & Biases</a> (<a href='https://wandb.me/developer-guide' target=\"_blank\">docs</a>)<br>"
      ],
      "text/plain": [
       "<IPython.core.display.HTML object>"
      ]
     },
     "metadata": {},
     "output_type": "display_data"
    },
    {
     "data": {
      "text/html": [
       " View project at <a href='https://wandb.ai/zainmalik-jfreaks/vitstr_study_4' target=\"_blank\">https://wandb.ai/zainmalik-jfreaks/vitstr_study_4</a>"
      ],
      "text/plain": [
       "<IPython.core.display.HTML object>"
      ]
     },
     "metadata": {},
     "output_type": "display_data"
    },
    {
     "data": {
      "text/html": [
       " View run at <a href='https://wandb.ai/zainmalik-jfreaks/vitstr_study_4/runs/1d9wz77j' target=\"_blank\">https://wandb.ai/zainmalik-jfreaks/vitstr_study_4/runs/1d9wz77j</a>"
      ],
      "text/plain": [
       "<IPython.core.display.HTML object>"
      ]
     },
     "metadata": {},
     "output_type": "display_data"
    },
    {
     "data": {
      "text/html": [],
      "text/plain": [
       "<IPython.core.display.HTML object>"
      ]
     },
     "metadata": {},
     "output_type": "display_data"
    },
    {
     "data": {
      "text/html": [
       "<br>    <style><br>        .wandb-row {<br>            display: flex;<br>            flex-direction: row;<br>            flex-wrap: wrap;<br>            justify-content: flex-start;<br>            width: 100%;<br>        }<br>        .wandb-col {<br>            display: flex;<br>            flex-direction: column;<br>            flex-basis: 100%;<br>            flex: 1;<br>            padding: 10px;<br>        }<br>    </style><br><div class=\"wandb-row\"><div class=\"wandb-col\"><h3>Run history:</h3><br/><table class=\"wandb\"><tr><td>Confidence</td><td>▁▁▁▁▁▁▁▁▁▁▁▁▁▁▃▁▁▁▂▂▁▁▅▃▃▂█▄▅▅▄▆▆▂▇▅▇▄█▃</td></tr><tr><td>best_accuracy</td><td>▁▁▁▁▁▁▁▂▃▄▄▆▇▇▇▇█████████</td></tr><tr><td>best_norm_ed</td><td>▁▁▁▁▂▂▃▅▆▇▇██████████████</td></tr><tr><td>current_accuracy</td><td>▁▁▁▁▁▁▁▂▃▄▄▆▇▇▇▇█████████</td></tr><tr><td>train_loss</td><td>█▇▆▆▆▆▅▄▃▂▂▂▂▁▁▁▁▁▁▁▁▁▁▁▁</td></tr><tr><td>valid_loss</td><td>█▇▆▆▆▆▅▃▂▂▂▁▁▁▁▁▁▁▁▁▁▁▁▁▁</td></tr></table><br/></div><div class=\"wandb-col\"><h3>Run summary:</h3><br/><table class=\"wandb\"><tr><td>Confidence</td><td>0.4003</td></tr><tr><td>Ground Truth</td><td>v5wyek</td></tr><tr><td>Prediction</td><td>v5wyek</td></tr><tr><td>True/False</td><td>True</td></tr><tr><td>best_accuracy</td><td>70.967</td></tr><tr><td>best_norm_ed</td><td>0.92</td></tr><tr><td>current_accuracy</td><td>70.917</td></tr><tr><td>train_loss</td><td>0.50508</td></tr><tr><td>valid_loss</td><td>0.55956</td></tr></table><br/></div></div>"
      ],
      "text/plain": [
       "<IPython.core.display.HTML object>"
      ]
     },
     "metadata": {},
     "output_type": "display_data"
    },
    {
     "data": {
      "text/html": [
       " View run <strong style=\"color:#cdcd00\">trial_1</strong> at: <a href='https://wandb.ai/zainmalik-jfreaks/vitstr_study_4/runs/1d9wz77j' target=\"_blank\">https://wandb.ai/zainmalik-jfreaks/vitstr_study_4/runs/1d9wz77j</a><br> View project at: <a href='https://wandb.ai/zainmalik-jfreaks/vitstr_study_4' target=\"_blank\">https://wandb.ai/zainmalik-jfreaks/vitstr_study_4</a><br>Synced 5 W&B file(s), 0 media file(s), 0 artifact file(s) and 0 other file(s)"
      ],
      "text/plain": [
       "<IPython.core.display.HTML object>"
      ]
     },
     "metadata": {},
     "output_type": "display_data"
    },
    {
     "data": {
      "text/html": [
       "Find logs at: <code>./wandb/run-20250217_074006-1d9wz77j/logs</code>"
      ],
      "text/plain": [
       "<IPython.core.display.HTML object>"
      ]
     },
     "metadata": {},
     "output_type": "display_data"
    },
    {
     "data": {
      "text/html": [
       "Tracking run with wandb version 0.19.6"
      ],
      "text/plain": [
       "<IPython.core.display.HTML object>"
      ]
     },
     "metadata": {},
     "output_type": "display_data"
    },
    {
     "data": {
      "text/html": [
       "Run data is saved locally in <code>/home/af-ml-dev/JFreaks/OCR/EasyOCR/deep-aug/deep-text-recognition-benchmark/python_notebooks/wandb/run-20250217_074008-hosuhg4t</code>"
      ],
      "text/plain": [
       "<IPython.core.display.HTML object>"
      ]
     },
     "metadata": {},
     "output_type": "display_data"
    },
    {
     "data": {
      "text/html": [
       "Syncing run <strong><a href='https://wandb.ai/zainmalik-jfreaks/vitstr_study_4/runs/hosuhg4t' target=\"_blank\">trial_3</a></strong> to <a href='https://wandb.ai/zainmalik-jfreaks/vitstr_study_4' target=\"_blank\">Weights & Biases</a> (<a href='https://wandb.me/developer-guide' target=\"_blank\">docs</a>)<br>"
      ],
      "text/plain": [
       "<IPython.core.display.HTML object>"
      ]
     },
     "metadata": {},
     "output_type": "display_data"
    },
    {
     "data": {
      "text/html": [
       " View project at <a href='https://wandb.ai/zainmalik-jfreaks/vitstr_study_4' target=\"_blank\">https://wandb.ai/zainmalik-jfreaks/vitstr_study_4</a>"
      ],
      "text/plain": [
       "<IPython.core.display.HTML object>"
      ]
     },
     "metadata": {},
     "output_type": "display_data"
    },
    {
     "data": {
      "text/html": [
       " View run at <a href='https://wandb.ai/zainmalik-jfreaks/vitstr_study_4/runs/hosuhg4t' target=\"_blank\">https://wandb.ai/zainmalik-jfreaks/vitstr_study_4/runs/hosuhg4t</a>"
      ],
      "text/plain": [
       "<IPython.core.display.HTML object>"
      ]
     },
     "metadata": {},
     "output_type": "display_data"
    },
    {
     "data": {
      "text/html": [],
      "text/plain": [
       "<IPython.core.display.HTML object>"
      ]
     },
     "metadata": {},
     "output_type": "display_data"
    },
    {
     "data": {
      "text/html": [
       "<br>    <style><br>        .wandb-row {<br>            display: flex;<br>            flex-direction: row;<br>            flex-wrap: wrap;<br>            justify-content: flex-start;<br>            width: 100%;<br>        }<br>        .wandb-col {<br>            display: flex;<br>            flex-direction: column;<br>            flex-basis: 100%;<br>            flex: 1;<br>            padding: 10px;<br>        }<br>    </style><br><div class=\"wandb-row\"><div class=\"wandb-col\"><h3>Run history:</h3><br/><table class=\"wandb\"><tr><td>Confidence</td><td>▁▁▁▁▁▁▁▁▁▁▁▂▂▆▂▁▃▃▇▅▂▇▂█▂▃▃▂▃▂▄▅▃▇▅▁▂▂▆▄</td></tr><tr><td>best_accuracy</td><td>▁▁▁▁▁▁▁▂▅▅▆▆▆▆▇▇▇▇▇▇█████████████████</td></tr><tr><td>best_norm_ed</td><td>▁▁▁▂▂▃▅▆▇▇▇▇█████████████████████████</td></tr><tr><td>current_accuracy</td><td>▁▁▁▁▁▁▁▂▅▅▆▆▆▆▇▇▇▇▇▇█████████████████</td></tr><tr><td>train_loss</td><td>█▇▆▆▆▅▄▃▃▂▂▂▂▂▁▁▁▁▁▁▁▁▁▁▁▁▁▁▁▁▁▁▁▁▁▁▁</td></tr><tr><td>valid_loss</td><td>█▇▆▆▆▅▄▃▂▂▁▁▁▁▁▁▁▁▁▁▁▁▁▁▁▁▁▁▁▁▁▁▁▁▁▁▁</td></tr></table><br/></div><div class=\"wandb-col\"><h3>Run summary:</h3><br/><table class=\"wandb\"><tr><td>Confidence</td><td>0.466</td></tr><tr><td>Ground Truth</td><td>xwsn4</td></tr><tr><td>Prediction</td><td>xwsn4</td></tr><tr><td>True/False</td><td>True</td></tr><tr><td>best_accuracy</td><td>76.933</td></tr><tr><td>best_norm_ed</td><td>0.94</td></tr><tr><td>current_accuracy</td><td>76.917</td></tr><tr><td>train_loss</td><td>0.33565</td></tr><tr><td>valid_loss</td><td>0.54087</td></tr></table><br/></div></div>"
      ],
      "text/plain": [
       "<IPython.core.display.HTML object>"
      ]
     },
     "metadata": {},
     "output_type": "display_data"
    },
    {
     "data": {
      "text/html": [
       " View run <strong style=\"color:#cdcd00\">trial_3</strong> at: <a href='https://wandb.ai/zainmalik-jfreaks/vitstr_study_4/runs/hosuhg4t' target=\"_blank\">https://wandb.ai/zainmalik-jfreaks/vitstr_study_4/runs/hosuhg4t</a><br> View project at: <a href='https://wandb.ai/zainmalik-jfreaks/vitstr_study_4' target=\"_blank\">https://wandb.ai/zainmalik-jfreaks/vitstr_study_4</a><br>Synced 5 W&B file(s), 0 media file(s), 0 artifact file(s) and 0 other file(s)"
      ],
      "text/plain": [
       "<IPython.core.display.HTML object>"
      ]
     },
     "metadata": {},
     "output_type": "display_data"
    },
    {
     "data": {
      "text/html": [
       "Find logs at: <code>./wandb/run-20250217_074008-hosuhg4t/logs</code>"
      ],
      "text/plain": [
       "<IPython.core.display.HTML object>"
      ]
     },
     "metadata": {},
     "output_type": "display_data"
    },
    {
     "data": {
      "text/html": [
       "Tracking run with wandb version 0.19.6"
      ],
      "text/plain": [
       "<IPython.core.display.HTML object>"
      ]
     },
     "metadata": {},
     "output_type": "display_data"
    },
    {
     "data": {
      "text/html": [
       "Run data is saved locally in <code>/home/af-ml-dev/JFreaks/OCR/EasyOCR/deep-aug/deep-text-recognition-benchmark/python_notebooks/wandb/run-20250217_074011-i8tm632i</code>"
      ],
      "text/plain": [
       "<IPython.core.display.HTML object>"
      ]
     },
     "metadata": {},
     "output_type": "display_data"
    },
    {
     "data": {
      "text/html": [
       "Syncing run <strong><a href='https://wandb.ai/zainmalik-jfreaks/vitstr_study_4/runs/i8tm632i' target=\"_blank\">trial_0</a></strong> to <a href='https://wandb.ai/zainmalik-jfreaks/vitstr_study_4' target=\"_blank\">Weights & Biases</a> (<a href='https://wandb.me/developer-guide' target=\"_blank\">docs</a>)<br>"
      ],
      "text/plain": [
       "<IPython.core.display.HTML object>"
      ]
     },
     "metadata": {},
     "output_type": "display_data"
    },
    {
     "data": {
      "text/html": [
       " View project at <a href='https://wandb.ai/zainmalik-jfreaks/vitstr_study_4' target=\"_blank\">https://wandb.ai/zainmalik-jfreaks/vitstr_study_4</a>"
      ],
      "text/plain": [
       "<IPython.core.display.HTML object>"
      ]
     },
     "metadata": {},
     "output_type": "display_data"
    },
    {
     "data": {
      "text/html": [
       " View run at <a href='https://wandb.ai/zainmalik-jfreaks/vitstr_study_4/runs/i8tm632i' target=\"_blank\">https://wandb.ai/zainmalik-jfreaks/vitstr_study_4/runs/i8tm632i</a>"
      ],
      "text/plain": [
       "<IPython.core.display.HTML object>"
      ]
     },
     "metadata": {},
     "output_type": "display_data"
    },
    {
     "data": {
      "text/html": [],
      "text/plain": [
       "<IPython.core.display.HTML object>"
      ]
     },
     "metadata": {},
     "output_type": "display_data"
    },
    {
     "data": {
      "text/html": [
       "<br>    <style><br>        .wandb-row {<br>            display: flex;<br>            flex-direction: row;<br>            flex-wrap: wrap;<br>            justify-content: flex-start;<br>            width: 100%;<br>        }<br>        .wandb-col {<br>            display: flex;<br>            flex-direction: column;<br>            flex-basis: 100%;<br>            flex: 1;<br>            padding: 10px;<br>        }<br>    </style><br><div class=\"wandb-row\"><div class=\"wandb-col\"><h3>Run history:</h3><br/><table class=\"wandb\"><tr><td>Confidence</td><td>▁▁▁▁▁▁▁▁▁▁█▅▃▄▆▂▂▃▃▆▄▄▃▂▅▄▁▃▃▆▄▄█▄▃█▄▆▂▆</td></tr><tr><td>best_accuracy</td><td>▁▁▁▁▁▁▁▃▅▆▆▇▇▇▇▇▇▇▇█████████████████████</td></tr><tr><td>best_norm_ed</td><td>▁▁▁▂▂▄▅▆▇▇██████████████████████████████</td></tr><tr><td>current_accuracy</td><td>▁▁▁▁▁▁▁▃▅▆▆▇▇▇▇▇▇▇▇█████████████████████</td></tr><tr><td>train_loss</td><td>█▇▆▆▆▅▄▃▂▂▂▂▂▁▁▁▁▁▁▁▁▁▁▁▁▁▁▁▁▁▁▁▁▁▁▁▁▁▁▁</td></tr><tr><td>valid_loss</td><td>█▇▆▆▆▅▄▂▁▁▁▁▁▁▁▁▁▁▁▁▁▁▁▁▁▁▁▁▁▁▁▁▁▁▁▁▁▁▁▁</td></tr></table><br/></div><div class=\"wandb-col\"><h3>Run summary:</h3><br/><table class=\"wandb\"><tr><td>Confidence</td><td>0.4447</td></tr><tr><td>Ground Truth</td><td>5rmr3v</td></tr><tr><td>Prediction</td><td>5rmr3v</td></tr><tr><td>True/False</td><td>True</td></tr><tr><td>best_accuracy</td><td>80.483</td></tr><tr><td>best_norm_ed</td><td>0.95</td></tr><tr><td>current_accuracy</td><td>80.45</td></tr><tr><td>train_loss</td><td>0.27597</td></tr><tr><td>valid_loss</td><td>0.54956</td></tr></table><br/></div></div>"
      ],
      "text/plain": [
       "<IPython.core.display.HTML object>"
      ]
     },
     "metadata": {},
     "output_type": "display_data"
    },
    {
     "data": {
      "text/html": [
       " View run <strong style=\"color:#cdcd00\">trial_0</strong> at: <a href='https://wandb.ai/zainmalik-jfreaks/vitstr_study_4/runs/i8tm632i' target=\"_blank\">https://wandb.ai/zainmalik-jfreaks/vitstr_study_4/runs/i8tm632i</a><br> View project at: <a href='https://wandb.ai/zainmalik-jfreaks/vitstr_study_4' target=\"_blank\">https://wandb.ai/zainmalik-jfreaks/vitstr_study_4</a><br>Synced 5 W&B file(s), 0 media file(s), 0 artifact file(s) and 0 other file(s)"
      ],
      "text/plain": [
       "<IPython.core.display.HTML object>"
      ]
     },
     "metadata": {},
     "output_type": "display_data"
    },
    {
     "data": {
      "text/html": [
       "Find logs at: <code>./wandb/run-20250217_074011-i8tm632i/logs</code>"
      ],
      "text/plain": [
       "<IPython.core.display.HTML object>"
      ]
     },
     "metadata": {},
     "output_type": "display_data"
    }
   ],
   "source": [
    "# Specify the base folder containing trials and the project name\n",
    "base_folder = \"/home/af-ml-dev/JFreaks/OCR/EasyOCR/deep-aug/deep-text-recognition-benchmark/optuna/vitstr_study_4\"\n",
    "project_name = \"vitstr_study_4\"\n",
    "\n",
    "# Call the function\n",
    "log_trials_from_folder(base_folder, project_name)"
   ]
  }
 ],
 "metadata": {
  "kernelspec": {
   "display_name": ".env",
   "language": "python",
   "name": "python3"
  },
  "language_info": {
   "codemirror_mode": {
    "name": "ipython",
    "version": 3
   },
   "file_extension": ".py",
   "mimetype": "text/x-python",
   "name": "python",
   "nbconvert_exporter": "python",
   "pygments_lexer": "ipython3",
   "version": "3.9.21"
  }
 },
 "nbformat": 4,
 "nbformat_minor": 2
}
